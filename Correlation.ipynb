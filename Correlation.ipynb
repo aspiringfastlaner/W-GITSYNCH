{
 "cells": [
  {
   "cell_type": "code",
   "execution_count": 16,
   "metadata": {
    "collapsed": false
   },
   "outputs": [],
   "source": [
    "import pandas as pd\n",
    "import pandas.io.data as web\n",
    "import numpy as np\n",
    "import datetime as dt\n",
    "import pandas.stats.moments as st\n",
    "from pandas import ExcelWriter\n",
    "import matplotlib.pyplot as plt\n",
    "import os\n"
   ]
  },
  {
   "cell_type": "code",
   "execution_count": 18,
   "metadata": {
    "collapsed": false
   },
   "outputs": [],
   "source": [
    "beg = dt.date(2015,2,1)\n",
    "fin = dt.date.today()\n",
    "spy = web.DataReader('SPY', 'yahoo', beg, fin)\n",
    "VXX = web.DataReader('VXX', 'yahoo', beg, fin)\n",
    "                     \n",
    "\n"
   ]
  },
  {
   "cell_type": "code",
   "execution_count": 19,
   "metadata": {
    "collapsed": false
   },
   "outputs": [
    {
     "data": {
      "text/plain": [
       "1.1731300116635586"
      ]
     },
     "execution_count": 19,
     "metadata": {},
     "output_type": "execute_result"
    }
   ],
   "source": [
    "spy['Adj Close'][-1] / spy['Adj Close'][0]"
   ]
  },
  {
   "cell_type": "code",
   "execution_count": 23,
   "metadata": {
    "collapsed": false
   },
   "outputs": [
    {
     "data": {
      "text/plain": [
       "6.3081794987880491"
      ]
     },
     "execution_count": 23,
     "metadata": {},
     "output_type": "execute_result"
    }
   ],
   "source": [
    "VXX['Adj Close'][0] / VXX['Adj Close'][-1]"
   ]
  },
  {
   "cell_type": "code",
   "execution_count": 22,
   "metadata": {
    "collapsed": false
   },
   "outputs": [
    {
     "data": {
      "text/html": [
       "<div>\n",
       "<table border=\"1\" class=\"dataframe\">\n",
       "  <thead>\n",
       "    <tr style=\"text-align: right;\">\n",
       "      <th></th>\n",
       "      <th>Open</th>\n",
       "      <th>High</th>\n",
       "      <th>Low</th>\n",
       "      <th>Close</th>\n",
       "      <th>Volume</th>\n",
       "      <th>Adj Close</th>\n",
       "    </tr>\n",
       "    <tr>\n",
       "      <th>Date</th>\n",
       "      <th></th>\n",
       "      <th></th>\n",
       "      <th></th>\n",
       "      <th></th>\n",
       "      <th></th>\n",
       "      <th></th>\n",
       "    </tr>\n",
       "  </thead>\n",
       "  <tbody>\n",
       "    <tr>\n",
       "      <th>2015-02-02</th>\n",
       "      <td>35.660000</td>\n",
       "      <td>37.349998</td>\n",
       "      <td>34.860001</td>\n",
       "      <td>34.900002</td>\n",
       "      <td>17508600</td>\n",
       "      <td>139.600006</td>\n",
       "    </tr>\n",
       "    <tr>\n",
       "      <th>2015-02-03</th>\n",
       "      <td>34.279999</td>\n",
       "      <td>34.630001</td>\n",
       "      <td>33.119999</td>\n",
       "      <td>33.240002</td>\n",
       "      <td>11910900</td>\n",
       "      <td>132.960007</td>\n",
       "    </tr>\n",
       "    <tr>\n",
       "      <th>2015-02-04</th>\n",
       "      <td>33.660000</td>\n",
       "      <td>34.360001</td>\n",
       "      <td>32.700001</td>\n",
       "      <td>34.150002</td>\n",
       "      <td>13566600</td>\n",
       "      <td>136.600006</td>\n",
       "    </tr>\n",
       "    <tr>\n",
       "      <th>2015-02-05</th>\n",
       "      <td>33.759998</td>\n",
       "      <td>33.799999</td>\n",
       "      <td>32.680000</td>\n",
       "      <td>32.910000</td>\n",
       "      <td>7953300</td>\n",
       "      <td>131.639999</td>\n",
       "    </tr>\n",
       "    <tr>\n",
       "      <th>2015-02-06</th>\n",
       "      <td>32.509998</td>\n",
       "      <td>35.029999</td>\n",
       "      <td>32.290001</td>\n",
       "      <td>34.299999</td>\n",
       "      <td>13140800</td>\n",
       "      <td>137.199997</td>\n",
       "    </tr>\n",
       "  </tbody>\n",
       "</table>\n",
       "</div>"
      ],
      "text/plain": [
       "                 Open       High        Low      Close    Volume   Adj Close\n",
       "Date                                                                        \n",
       "2015-02-02  35.660000  37.349998  34.860001  34.900002  17508600  139.600006\n",
       "2015-02-03  34.279999  34.630001  33.119999  33.240002  11910900  132.960007\n",
       "2015-02-04  33.660000  34.360001  32.700001  34.150002  13566600  136.600006\n",
       "2015-02-05  33.759998  33.799999  32.680000  32.910000   7953300  131.639999\n",
       "2015-02-06  32.509998  35.029999  32.290001  34.299999  13140800  137.199997"
      ]
     },
     "execution_count": 22,
     "metadata": {},
     "output_type": "execute_result"
    }
   ],
   "source": [
    "VXX.head()"
   ]
  },
  {
   "cell_type": "code",
   "execution_count": null,
   "metadata": {
    "collapsed": true
   },
   "outputs": [],
   "source": []
  }
 ],
 "metadata": {
  "anaconda-cloud": {},
  "kernelspec": {
   "display_name": "Python [Root]",
   "language": "python",
   "name": "Python [Root]"
  },
  "language_info": {
   "codemirror_mode": {
    "name": "ipython",
    "version": 3
   },
   "file_extension": ".py",
   "mimetype": "text/x-python",
   "name": "python",
   "nbconvert_exporter": "python",
   "pygments_lexer": "ipython3",
   "version": "3.5.2"
  }
 },
 "nbformat": 4,
 "nbformat_minor": 0
}
