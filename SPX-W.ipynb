{
 "cells": [
  {
   "cell_type": "code",
   "execution_count": 1,
   "metadata": {
    "collapsed": true
   },
   "outputs": [],
   "source": [
    "import pandas as pd\n",
    "import numpy as np\n",
    "import matplotlib.pyplot as plt\n",
    "import seaborn as sns\n",
    "import quandl\n",
    "import calendar\n",
    "import os\n",
    "os.chdir('H:\\W-GITSYNCH')\n",
    "\n",
    "\n",
    "%matplotlib inline\n",
    "sns.set(style=\"whitegrid\")"
   ]
  },
  {
   "cell_type": "code",
   "execution_count": 2,
   "metadata": {
    "collapsed": true
   },
   "outputs": [],
   "source": [
    "vix = pd.read_csv(\"^VIX.csv\", index_col=\"Date\")\n",
    "vix.index = pd.to_datetime(vix.index, format=\"%Y-%m-%d\")\n",
    "vix = vix.apply(pd.to_numeric, errors=\"coerce\")\n",
    "\n",
    "spx = pd.read_csv(\"^GSPC.csv\", index_col=\"Date\")\n",
    "spx.index = pd.to_datetime(spx.index, format=\"%Y-%m-%d\")\n",
    "spx = spx.apply(pd.to_numeric, errors=\"coerce\")\n",
    "\n",
    "def DatesAndPct(df):\n",
    "    df[\"day\"] = df.index.dayofyear\n",
    "    df[\"month\"] = df.index.month\n",
    "    df[\"year\"] = df.index.year\n",
    "    df[\"pct\"] = np.log(df[\"Adj Close\"]).diff(1)\n",
    "    return df\n",
    "\n",
    "vix = DatesAndPct(vix)\n",
    "spx = DatesAndPct(spx)"
   ]
  },
  {
   "cell_type": "code",
   "execution_count": 25,
   "metadata": {},
   "outputs": [],
   "source": [
    "spx_vix = pd.concat([vix['Adj Close'], spx['Adj Close']], axis = 1)\n",
    "spx_vix.columns = ['vix','spx']\n",
    "\n",
    "def DatesAndPct1(df,dtevx,dtespx):\n",
    "    df[\"day\"] = df.index.dayofyear\n",
    "    df[\"month\"] = df.index.month\n",
    "    df[\"year\"] = df.index.year\n",
    "    v = \"pct vix \" + str(dtevx) + \" day\"\n",
    "    s = \"pct spx \" + str(dtespx) + \" day\"\n",
    "    df[v] = np.log(df[\"vix\"]).diff(dtevx)\n",
    "    df[s] = np.log(df[\"spx\"]).diff(dtespx)\n",
    "    return df\n",
    "\n",
    "final_vix_spx = DatesAndPct1(spx_vix,1,4).dropna()\n",
    "final_vix_spx.to_csv('final_vix_spx.csv')"
   ]
  },
  {
   "cell_type": "code",
   "execution_count": 17,
   "metadata": {
    "collapsed": true
   },
   "outputs": [],
   "source": [
    "def worst_return(vixlevel,dte):\n",
    "    df = final_vix_spx.copy()\n",
    "    df[\"pct spx dte\"] = np.log(df[\"spx\"]).diff(dte)\n",
    "    df = df[df['vix'] < vixlevel].dropna()\n",
    "    df = df.sort_values(['pct spx dte'], ascending = 1)\n",
    "    return df"
   ]
  },
  {
   "cell_type": "code",
   "execution_count": 29,
   "metadata": {},
   "outputs": [
    {
     "data": {
      "text/html": [
       "<div>\n",
       "<style>\n",
       "    .dataframe thead tr:only-child th {\n",
       "        text-align: right;\n",
       "    }\n",
       "\n",
       "    .dataframe thead th {\n",
       "        text-align: left;\n",
       "    }\n",
       "\n",
       "    .dataframe tbody tr th {\n",
       "        vertical-align: top;\n",
       "    }\n",
       "</style>\n",
       "<table border=\"1\" class=\"dataframe\">\n",
       "  <thead>\n",
       "    <tr style=\"text-align: right;\">\n",
       "      <th></th>\n",
       "      <th>vix</th>\n",
       "      <th>spx</th>\n",
       "      <th>day</th>\n",
       "      <th>month</th>\n",
       "      <th>year</th>\n",
       "      <th>pct vix 1 day</th>\n",
       "      <th>pct spx 4 day</th>\n",
       "      <th>pct spx dte</th>\n",
       "    </tr>\n",
       "    <tr>\n",
       "      <th>Date</th>\n",
       "      <th></th>\n",
       "      <th></th>\n",
       "      <th></th>\n",
       "      <th></th>\n",
       "      <th></th>\n",
       "      <th></th>\n",
       "      <th></th>\n",
       "      <th></th>\n",
       "    </tr>\n",
       "  </thead>\n",
       "  <tbody>\n",
       "    <tr>\n",
       "      <th>2007-01-25</th>\n",
       "      <td>11.22</td>\n",
       "      <td>1423.900024</td>\n",
       "      <td>25</td>\n",
       "      <td>1</td>\n",
       "      <td>2007</td>\n",
       "      <td>0.126174</td>\n",
       "      <td>-0.004624</td>\n",
       "      <td>-0.011334</td>\n",
       "    </tr>\n",
       "    <tr>\n",
       "      <th>2005-06-23</th>\n",
       "      <td>12.13</td>\n",
       "      <td>1200.729980</td>\n",
       "      <td>174</td>\n",
       "      <td>6</td>\n",
       "      <td>2005</td>\n",
       "      <td>0.093251</td>\n",
       "      <td>-0.013426</td>\n",
       "      <td>-0.010892</td>\n",
       "    </tr>\n",
       "    <tr>\n",
       "      <th>1995-06-26</th>\n",
       "      <td>11.80</td>\n",
       "      <td>544.130005</td>\n",
       "      <td>177</td>\n",
       "      <td>6</td>\n",
       "      <td>1995</td>\n",
       "      <td>0.059354</td>\n",
       "      <td>-0.001561</td>\n",
       "      <td>-0.010203</td>\n",
       "    </tr>\n",
       "    <tr>\n",
       "      <th>2005-12-27</th>\n",
       "      <td>11.57</td>\n",
       "      <td>1256.540039</td>\n",
       "      <td>361</td>\n",
       "      <td>12</td>\n",
       "      <td>2005</td>\n",
       "      <td>0.119189</td>\n",
       "      <td>-0.002448</td>\n",
       "      <td>-0.009599</td>\n",
       "    </tr>\n",
       "    <tr>\n",
       "      <th>2017-06-29</th>\n",
       "      <td>11.44</td>\n",
       "      <td>2419.699951</td>\n",
       "      <td>180</td>\n",
       "      <td>6</td>\n",
       "      <td>2017</td>\n",
       "      <td>0.131535</td>\n",
       "      <td>-0.007658</td>\n",
       "      <td>-0.008637</td>\n",
       "    </tr>\n",
       "  </tbody>\n",
       "</table>\n",
       "</div>"
      ],
      "text/plain": [
       "              vix          spx  day  month  year  pct vix 1 day  \\\n",
       "Date                                                              \n",
       "2007-01-25  11.22  1423.900024   25      1  2007       0.126174   \n",
       "2005-06-23  12.13  1200.729980  174      6  2005       0.093251   \n",
       "1995-06-26  11.80   544.130005  177      6  1995       0.059354   \n",
       "2005-12-27  11.57  1256.540039  361     12  2005       0.119189   \n",
       "2017-06-29  11.44  2419.699951  180      6  2017       0.131535   \n",
       "\n",
       "            pct spx 4 day  pct spx dte  \n",
       "Date                                    \n",
       "2007-01-25      -0.004624    -0.011334  \n",
       "2005-06-23      -0.013426    -0.010892  \n",
       "1995-06-26      -0.001561    -0.010203  \n",
       "2005-12-27      -0.002448    -0.009599  \n",
       "2017-06-29      -0.007658    -0.008637  "
      ]
     },
     "execution_count": 29,
     "metadata": {},
     "output_type": "execute_result"
    }
   ],
   "source": [
    "#2 days is 3 data points \n",
    "worst_return(12.15,1).head(5)"
   ]
  },
  {
   "cell_type": "code",
   "execution_count": null,
   "metadata": {
    "collapsed": true
   },
   "outputs": [],
   "source": []
  }
 ],
 "metadata": {
  "kernelspec": {
   "display_name": "Python 3",
   "language": "python",
   "name": "python3"
  },
  "language_info": {
   "codemirror_mode": {
    "name": "ipython",
    "version": 3
   },
   "file_extension": ".py",
   "mimetype": "text/x-python",
   "name": "python",
   "nbconvert_exporter": "python",
   "pygments_lexer": "ipython3",
   "version": "3.6.1"
  }
 },
 "nbformat": 4,
 "nbformat_minor": 2
}
